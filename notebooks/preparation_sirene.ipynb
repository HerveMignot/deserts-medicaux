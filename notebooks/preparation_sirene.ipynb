{
 "cells": [
  {
   "cell_type": "markdown",
   "metadata": {},
   "source": [
    "# Traitement de la base sirene"
   ]
  },
  {
   "cell_type": "code",
   "execution_count": 5,
   "metadata": {
    "collapsed": true
   },
   "outputs": [],
   "source": [
    "import os\n",
    "\n",
    "import pandas as pd"
   ]
  },
  {
   "cell_type": "code",
   "execution_count": 2,
   "metadata": {
    "collapsed": true
   },
   "outputs": [],
   "source": [
    "# Ne pas oublier PEP 8"
   ]
  },
  {
   "cell_type": "code",
   "execution_count": 62,
   "metadata": {
    "collapsed": true
   },
   "outputs": [],
   "source": [
    "# Déclaration des constantes\n",
    "DATA_DIR = '../data/external/'\n",
    "ENTITIES_FILENAME = 'StockUniteLegale_utf8.zip'\n",
    "ETAB_FILENAME = 'StockEtablissement_utf8.zip'\n",
    "\n",
    "ACTIVITY_CODE = '86.'"
   ]
  },
  {
   "cell_type": "markdown",
   "metadata": {},
   "source": [
    "## Préparation des entités"
   ]
  },
  {
   "cell_type": "code",
   "execution_count": 6,
   "metadata": {},
   "outputs": [
    {
     "data": {
      "text/html": [
       "<div>\n",
       "<style>\n",
       "    .dataframe thead tr:only-child th {\n",
       "        text-align: right;\n",
       "    }\n",
       "\n",
       "    .dataframe thead th {\n",
       "        text-align: left;\n",
       "    }\n",
       "\n",
       "    .dataframe tbody tr th {\n",
       "        vertical-align: top;\n",
       "    }\n",
       "</style>\n",
       "<table border=\"1\" class=\"dataframe\">\n",
       "  <thead>\n",
       "    <tr style=\"text-align: right;\">\n",
       "      <th></th>\n",
       "      <th>siren</th>\n",
       "      <th>statutdiffusionunitelegale</th>\n",
       "      <th>unitepurgeeunitelegale</th>\n",
       "      <th>datecreationunitelegale</th>\n",
       "      <th>sigleunitelegale</th>\n",
       "      <th>sexeunitelegale</th>\n",
       "      <th>prenom1unitelegale</th>\n",
       "      <th>prenom2unitelegale</th>\n",
       "      <th>prenom3unitelegale</th>\n",
       "      <th>prenom4unitelegale</th>\n",
       "      <th>...</th>\n",
       "      <th>denominationunitelegale</th>\n",
       "      <th>denominationusuelle1unitelegale</th>\n",
       "      <th>denominationusuelle2unitelegale</th>\n",
       "      <th>denominationusuelle3unitelegale</th>\n",
       "      <th>categoriejuridiqueunitelegale</th>\n",
       "      <th>activiteprincipaleunitelegale</th>\n",
       "      <th>nomenclatureactiviteprincipaleunitelegale</th>\n",
       "      <th>nicsiegeunitelegale</th>\n",
       "      <th>economiesocialesolidaireunitelegale</th>\n",
       "      <th>caractereemployeurunitelegale</th>\n",
       "    </tr>\n",
       "  </thead>\n",
       "  <tbody>\n",
       "    <tr>\n",
       "      <th>0</th>\n",
       "      <td>325175</td>\n",
       "      <td>O</td>\n",
       "      <td>NaN</td>\n",
       "      <td>2000-09-26</td>\n",
       "      <td>NaN</td>\n",
       "      <td>M</td>\n",
       "      <td>THIERRY</td>\n",
       "      <td>NaN</td>\n",
       "      <td>NaN</td>\n",
       "      <td>NaN</td>\n",
       "      <td>...</td>\n",
       "      <td>NaN</td>\n",
       "      <td>NaN</td>\n",
       "      <td>NaN</td>\n",
       "      <td>NaN</td>\n",
       "      <td>1000</td>\n",
       "      <td>32.12Z</td>\n",
       "      <td>NAFRev2</td>\n",
       "      <td>65</td>\n",
       "      <td>NaN</td>\n",
       "      <td>N</td>\n",
       "    </tr>\n",
       "    <tr>\n",
       "      <th>1</th>\n",
       "      <td>1807254</td>\n",
       "      <td>O</td>\n",
       "      <td>NaN</td>\n",
       "      <td>1972-05-01</td>\n",
       "      <td>NaN</td>\n",
       "      <td>M</td>\n",
       "      <td>JACQUES-LUCIEN</td>\n",
       "      <td>NaN</td>\n",
       "      <td>NaN</td>\n",
       "      <td>NaN</td>\n",
       "      <td>...</td>\n",
       "      <td>NaN</td>\n",
       "      <td>NaN</td>\n",
       "      <td>NaN</td>\n",
       "      <td>NaN</td>\n",
       "      <td>1000</td>\n",
       "      <td>85.59A</td>\n",
       "      <td>NAFRev2</td>\n",
       "      <td>22</td>\n",
       "      <td>NaN</td>\n",
       "      <td>N</td>\n",
       "    </tr>\n",
       "    <tr>\n",
       "      <th>2</th>\n",
       "      <td>5410220</td>\n",
       "      <td>O</td>\n",
       "      <td>True</td>\n",
       "      <td>1954-12-25</td>\n",
       "      <td>NaN</td>\n",
       "      <td>M</td>\n",
       "      <td>GEORGES</td>\n",
       "      <td>NaN</td>\n",
       "      <td>NaN</td>\n",
       "      <td>NaN</td>\n",
       "      <td>...</td>\n",
       "      <td>NaN</td>\n",
       "      <td>NaN</td>\n",
       "      <td>NaN</td>\n",
       "      <td>NaN</td>\n",
       "      <td>1000</td>\n",
       "      <td>22.02</td>\n",
       "      <td>NAP</td>\n",
       "      <td>15</td>\n",
       "      <td>NaN</td>\n",
       "      <td>N</td>\n",
       "    </tr>\n",
       "    <tr>\n",
       "      <th>3</th>\n",
       "      <td>5410345</td>\n",
       "      <td>O</td>\n",
       "      <td>True</td>\n",
       "      <td>NaN</td>\n",
       "      <td>NaN</td>\n",
       "      <td>M</td>\n",
       "      <td>MICHEL</td>\n",
       "      <td>NaN</td>\n",
       "      <td>NaN</td>\n",
       "      <td>NaN</td>\n",
       "      <td>...</td>\n",
       "      <td>NaN</td>\n",
       "      <td>NaN</td>\n",
       "      <td>NaN</td>\n",
       "      <td>NaN</td>\n",
       "      <td>1000</td>\n",
       "      <td>79.06</td>\n",
       "      <td>NAP</td>\n",
       "      <td>10</td>\n",
       "      <td>NaN</td>\n",
       "      <td>N</td>\n",
       "    </tr>\n",
       "    <tr>\n",
       "      <th>4</th>\n",
       "      <td>5410394</td>\n",
       "      <td>O</td>\n",
       "      <td>True</td>\n",
       "      <td>1954-12-25</td>\n",
       "      <td>NaN</td>\n",
       "      <td>M</td>\n",
       "      <td>ROBERT</td>\n",
       "      <td>ALFRED</td>\n",
       "      <td>NaN</td>\n",
       "      <td>NaN</td>\n",
       "      <td>...</td>\n",
       "      <td>NaN</td>\n",
       "      <td>NaN</td>\n",
       "      <td>NaN</td>\n",
       "      <td>NaN</td>\n",
       "      <td>1000</td>\n",
       "      <td>64.42</td>\n",
       "      <td>NAP</td>\n",
       "      <td>18</td>\n",
       "      <td>NaN</td>\n",
       "      <td>N</td>\n",
       "    </tr>\n",
       "  </tbody>\n",
       "</table>\n",
       "<p>5 rows × 33 columns</p>\n",
       "</div>"
      ],
      "text/plain": [
       "     siren statutdiffusionunitelegale unitepurgeeunitelegale  \\\n",
       "0   325175                          O                    NaN   \n",
       "1  1807254                          O                    NaN   \n",
       "2  5410220                          O                   True   \n",
       "3  5410345                          O                   True   \n",
       "4  5410394                          O                   True   \n",
       "\n",
       "  datecreationunitelegale sigleunitelegale sexeunitelegale prenom1unitelegale  \\\n",
       "0              2000-09-26              NaN               M            THIERRY   \n",
       "1              1972-05-01              NaN               M     JACQUES-LUCIEN   \n",
       "2              1954-12-25              NaN               M            GEORGES   \n",
       "3                     NaN              NaN               M             MICHEL   \n",
       "4              1954-12-25              NaN               M             ROBERT   \n",
       "\n",
       "  prenom2unitelegale prenom3unitelegale prenom4unitelegale  \\\n",
       "0                NaN                NaN                NaN   \n",
       "1                NaN                NaN                NaN   \n",
       "2                NaN                NaN                NaN   \n",
       "3                NaN                NaN                NaN   \n",
       "4             ALFRED                NaN                NaN   \n",
       "\n",
       "               ...              denominationunitelegale  \\\n",
       "0              ...                                  NaN   \n",
       "1              ...                                  NaN   \n",
       "2              ...                                  NaN   \n",
       "3              ...                                  NaN   \n",
       "4              ...                                  NaN   \n",
       "\n",
       "   denominationusuelle1unitelegale  denominationusuelle2unitelegale  \\\n",
       "0                              NaN                              NaN   \n",
       "1                              NaN                              NaN   \n",
       "2                              NaN                              NaN   \n",
       "3                              NaN                              NaN   \n",
       "4                              NaN                              NaN   \n",
       "\n",
       "  denominationusuelle3unitelegale  categoriejuridiqueunitelegale  \\\n",
       "0                             NaN                           1000   \n",
       "1                             NaN                           1000   \n",
       "2                             NaN                           1000   \n",
       "3                             NaN                           1000   \n",
       "4                             NaN                           1000   \n",
       "\n",
       "  activiteprincipaleunitelegale  nomenclatureactiviteprincipaleunitelegale  \\\n",
       "0                        32.12Z                                    NAFRev2   \n",
       "1                        85.59A                                    NAFRev2   \n",
       "2                         22.02                                        NAP   \n",
       "3                         79.06                                        NAP   \n",
       "4                         64.42                                        NAP   \n",
       "\n",
       "  nicsiegeunitelegale  economiesocialesolidaireunitelegale  \\\n",
       "0                  65                                  NaN   \n",
       "1                  22                                  NaN   \n",
       "2                  15                                  NaN   \n",
       "3                  10                                  NaN   \n",
       "4                  18                                  NaN   \n",
       "\n",
       "  caractereemployeurunitelegale  \n",
       "0                             N  \n",
       "1                             N  \n",
       "2                             N  \n",
       "3                             N  \n",
       "4                             N  \n",
       "\n",
       "[5 rows x 33 columns]"
      ]
     },
     "execution_count": 6,
     "metadata": {},
     "output_type": "execute_result"
    }
   ],
   "source": [
    "pd.read_csv(os.path.join(DATA_DIR, ENTITIES_FILENAME), # Concaténation du répertoire et du nom de fichier\n",
    "            compression='zip',\n",
    "            #nrows=1000 # limite à 1000 lignes la lecture\n",
    "           ).head()"
   ]
  },
  {
   "cell_type": "code",
   "execution_count": 8,
   "metadata": {},
   "outputs": [
    {
     "data": {
      "text/plain": [
       "Index(['siren', 'statutdiffusionunitelegale', 'unitepurgeeunitelegale',\n",
       "       'datecreationunitelegale', 'sigleunitelegale', 'sexeunitelegale',\n",
       "       'prenom1unitelegale', 'prenom2unitelegale', 'prenom3unitelegale',\n",
       "       'prenom4unitelegale', 'prenomusuelunitelegale', 'pseudonymeunitelegale',\n",
       "       'identifiantassociationunitelegale', 'trancheeffectifsunitelegale',\n",
       "       'anneeeffectifsunitelegale', 'datederniertraitementunitelegale',\n",
       "       'nombreperiodesunitelegale', 'categorieentreprise',\n",
       "       'anneecategorieentreprise', 'datedebut', 'etatadministratifunitelegale',\n",
       "       'nomunitelegale', 'nomusageunitelegale', 'denominationunitelegale',\n",
       "       'denominationusuelle1unitelegale', 'denominationusuelle2unitelegale',\n",
       "       'denominationusuelle3unitelegale', 'categoriejuridiqueunitelegale',\n",
       "       'activiteprincipaleunitelegale',\n",
       "       'nomenclatureactiviteprincipaleunitelegale', 'nicsiegeunitelegale',\n",
       "       'economiesocialesolidaireunitelegale', 'caractereemployeurunitelegale'],\n",
       "      dtype='object')"
      ]
     },
     "execution_count": 8,
     "metadata": {},
     "output_type": "execute_result"
    }
   ],
   "source": [
    "pd.read_csv(os.path.join(DATA_DIR, ENTITIES_FILENAME), # Concaténation du répertoire et du nom de fichier\n",
    "            compression='zip',\n",
    "            nrows=1000 # limite à 1000 lignes la lecture\n",
    "           ).columns"
   ]
  },
  {
   "cell_type": "code",
   "execution_count": 95,
   "metadata": {},
   "outputs": [
    {
     "name": "stderr",
     "output_type": "stream",
     "text": [
      "<string>:2: DtypeWarning: Columns (21) have mixed types. Specify dtype option on import or set low_memory=False.\n"
     ]
    },
    {
     "name": "stdout",
     "output_type": "stream",
     "text": [
      "Wall time: 44.9 s\n"
     ]
    }
   ],
   "source": [
    "%%time\n",
    "entities_df = (pd.read_csv(os.path.join(DATA_DIR, ENTITIES_FILENAME), # Concaténation du répertoire et du nom de fichier\n",
    "                           usecols=['siren',\n",
    "                                    'activiteprincipaleunitelegale', 'datecreationunitelegale',\n",
    "                                    'denominationunitelegale', 'nomunitelegale', 'etatadministratifunitelegale',\n",
    "                                   ],\n",
    "                           compression='zip',\n",
    "                           #nrows=100000 # limite à n lignes la lecture\n",
    "                          )\n",
    "             ).dropna(subset=['activiteprincipaleunitelegale']).query('etatadministratifunitelegale == \"A\"')\n",
    "\n",
    "# Filtrage des professionnels de santé\n",
    "#entities_df = entities_df[entities_df.activiteprincipaleunitelegale.str.startswith(ACTIVITY_CODE)] # 86."
   ]
  },
  {
   "cell_type": "code",
   "execution_count": 96,
   "metadata": {},
   "outputs": [
    {
     "data": {
      "text/plain": [
       "(11696143, 6)"
      ]
     },
     "execution_count": 96,
     "metadata": {},
     "output_type": "execute_result"
    }
   ],
   "source": [
    "entities_df.shape"
   ]
  },
  {
   "cell_type": "code",
   "execution_count": 57,
   "metadata": {},
   "outputs": [
    {
     "data": {
      "text/plain": [
       "469609"
      ]
     },
     "execution_count": 57,
     "metadata": {},
     "output_type": "execute_result"
    }
   ],
   "source": [
    "entities_df.denominationunitelegale.isnull().sum()"
   ]
  },
  {
   "cell_type": "code",
   "execution_count": 58,
   "metadata": {},
   "outputs": [
    {
     "data": {
      "text/plain": [
       "48443"
      ]
     },
     "execution_count": 58,
     "metadata": {},
     "output_type": "execute_result"
    }
   ],
   "source": [
    "entities_df.nomunitelegale.isnull().sum()"
   ]
  },
  {
   "cell_type": "code",
   "execution_count": 59,
   "metadata": {},
   "outputs": [
    {
     "data": {
      "text/plain": [
       "518052"
      ]
     },
     "execution_count": 59,
     "metadata": {},
     "output_type": "execute_result"
    }
   ],
   "source": [
    "entities_df.denominationunitelegale.isnull().sum() + entities_df.nomunitelegale.isnull().sum()"
   ]
  },
  {
   "cell_type": "code",
   "execution_count": 60,
   "metadata": {},
   "outputs": [
    {
     "data": {
      "text/html": [
       "<div>\n",
       "<style>\n",
       "    .dataframe thead tr:only-child th {\n",
       "        text-align: right;\n",
       "    }\n",
       "\n",
       "    .dataframe thead th {\n",
       "        text-align: left;\n",
       "    }\n",
       "\n",
       "    .dataframe tbody tr th {\n",
       "        vertical-align: top;\n",
       "    }\n",
       "</style>\n",
       "<table border=\"1\" class=\"dataframe\">\n",
       "  <thead>\n",
       "    <tr style=\"text-align: right;\">\n",
       "      <th></th>\n",
       "      <th>datecreationunitelegale</th>\n",
       "      <th>etatadministratifunitelegale</th>\n",
       "      <th>nomunitelegale</th>\n",
       "      <th>denominationunitelegale</th>\n",
       "      <th>activiteprincipaleunitelegale</th>\n",
       "    </tr>\n",
       "  </thead>\n",
       "  <tbody>\n",
       "    <tr>\n",
       "      <th>801</th>\n",
       "      <td>1957-01-01</td>\n",
       "      <td>A</td>\n",
       "      <td>NaN</td>\n",
       "      <td>SA SAINTE-ISABELLE</td>\n",
       "      <td>86.10Z</td>\n",
       "    </tr>\n",
       "    <tr>\n",
       "      <th>4081</th>\n",
       "      <td>1965-01-01</td>\n",
       "      <td>A</td>\n",
       "      <td>MORONI</td>\n",
       "      <td>NaN</td>\n",
       "      <td>86.90A</td>\n",
       "    </tr>\n",
       "    <tr>\n",
       "      <th>5775</th>\n",
       "      <td>1991-06-03</td>\n",
       "      <td>A</td>\n",
       "      <td>DACQUIN</td>\n",
       "      <td>NaN</td>\n",
       "      <td>86.06</td>\n",
       "    </tr>\n",
       "    <tr>\n",
       "      <th>5893</th>\n",
       "      <td>1970-01-01</td>\n",
       "      <td>A</td>\n",
       "      <td>NaN</td>\n",
       "      <td>CENTRE DES CARMES</td>\n",
       "      <td>86.10Z</td>\n",
       "    </tr>\n",
       "    <tr>\n",
       "      <th>15153</th>\n",
       "      <td>1971-01-01</td>\n",
       "      <td>A</td>\n",
       "      <td>NaN</td>\n",
       "      <td>CLINIQUE LES ROSIERS</td>\n",
       "      <td>86.10Z</td>\n",
       "    </tr>\n",
       "  </tbody>\n",
       "</table>\n",
       "</div>"
      ],
      "text/plain": [
       "      datecreationunitelegale etatadministratifunitelegale nomunitelegale  \\\n",
       "801                1957-01-01                            A            NaN   \n",
       "4081               1965-01-01                            A         MORONI   \n",
       "5775               1991-06-03                            A        DACQUIN   \n",
       "5893               1970-01-01                            A            NaN   \n",
       "15153              1971-01-01                            A            NaN   \n",
       "\n",
       "      denominationunitelegale activiteprincipaleunitelegale  \n",
       "801        SA SAINTE-ISABELLE                        86.10Z  \n",
       "4081                      NaN                        86.90A  \n",
       "5775                      NaN                         86.06  \n",
       "5893        CENTRE DES CARMES                        86.10Z  \n",
       "15153    CLINIQUE LES ROSIERS                        86.10Z  "
      ]
     },
     "execution_count": 60,
     "metadata": {},
     "output_type": "execute_result"
    }
   ],
   "source": [
    "entities_df.head()"
   ]
  },
  {
   "cell_type": "raw",
   "metadata": {},
   "source": [
    "(pd.read_csv(os.path.join(DATA_DIR, ENTITES_FILENAME), # Concaténation du répertoire et du nom de fichier\n",
    "                          compression='zip',\n",
    "                          nrows=1000 # limite à 1000 lignes la lecture\n",
    "            )\n",
    " .dropna(subset=['activiteprincipaleunitelegale'])\n",
    " .query('activiteprincipaleunitelegale like \"86.%\"')\n",
    " ['activiteprincipaleunitelegale'].value_counts()\n",
    ")"
   ]
  },
  {
   "cell_type": "markdown",
   "metadata": {},
   "source": [
    "## Préparation des établissements"
   ]
  },
  {
   "cell_type": "code",
   "execution_count": 63,
   "metadata": {},
   "outputs": [
    {
     "data": {
      "text/html": [
       "<div>\n",
       "<style>\n",
       "    .dataframe thead tr:only-child th {\n",
       "        text-align: right;\n",
       "    }\n",
       "\n",
       "    .dataframe thead th {\n",
       "        text-align: left;\n",
       "    }\n",
       "\n",
       "    .dataframe tbody tr th {\n",
       "        vertical-align: top;\n",
       "    }\n",
       "</style>\n",
       "<table border=\"1\" class=\"dataframe\">\n",
       "  <thead>\n",
       "    <tr style=\"text-align: right;\">\n",
       "      <th></th>\n",
       "      <th>siren</th>\n",
       "      <th>nic</th>\n",
       "      <th>siret</th>\n",
       "      <th>statutdiffusionetablissement</th>\n",
       "      <th>datecreationetablissement</th>\n",
       "      <th>trancheeffectifsetablissement</th>\n",
       "      <th>anneeeffectifsetablissement</th>\n",
       "      <th>activiteprincipaleregistremetiersetablissement</th>\n",
       "      <th>datederniertraitementetablissement</th>\n",
       "      <th>etablissementsiege</th>\n",
       "      <th>...</th>\n",
       "      <th>libellepaysetranger2etablissement</th>\n",
       "      <th>datedebut</th>\n",
       "      <th>etatadministratifetablissement</th>\n",
       "      <th>enseigne1etablissement</th>\n",
       "      <th>enseigne2etablissement</th>\n",
       "      <th>enseigne3etablissement</th>\n",
       "      <th>denominationusuelleetablissement</th>\n",
       "      <th>activiteprincipaleetablissement</th>\n",
       "      <th>nomenclatureactiviteprincipaleetablissement</th>\n",
       "      <th>caractereemployeuretablissement</th>\n",
       "    </tr>\n",
       "  </thead>\n",
       "  <tbody>\n",
       "    <tr>\n",
       "      <th>0</th>\n",
       "      <td>325175</td>\n",
       "      <td>16</td>\n",
       "      <td>32517500016</td>\n",
       "      <td>O</td>\n",
       "      <td>2000-09-26</td>\n",
       "      <td>NaN</td>\n",
       "      <td>NaN</td>\n",
       "      <td>3212ZZ</td>\n",
       "      <td>2015-03-18T00:58:59</td>\n",
       "      <td>False</td>\n",
       "      <td>...</td>\n",
       "      <td>NaN</td>\n",
       "      <td>2009-05-27</td>\n",
       "      <td>F</td>\n",
       "      <td>NaN</td>\n",
       "      <td>NaN</td>\n",
       "      <td>NaN</td>\n",
       "      <td>NaN</td>\n",
       "      <td>32.12Z</td>\n",
       "      <td>NAFRev2</td>\n",
       "      <td>N</td>\n",
       "    </tr>\n",
       "    <tr>\n",
       "      <th>1</th>\n",
       "      <td>325175</td>\n",
       "      <td>24</td>\n",
       "      <td>32517500024</td>\n",
       "      <td>O</td>\n",
       "      <td>2008-05-20</td>\n",
       "      <td>NaN</td>\n",
       "      <td>NaN</td>\n",
       "      <td>NaN</td>\n",
       "      <td>2011-12-12T09:40:04</td>\n",
       "      <td>False</td>\n",
       "      <td>...</td>\n",
       "      <td>NaN</td>\n",
       "      <td>2011-10-21</td>\n",
       "      <td>F</td>\n",
       "      <td>TAHITI PERLES CREATIONS</td>\n",
       "      <td>NaN</td>\n",
       "      <td>NaN</td>\n",
       "      <td>NaN</td>\n",
       "      <td>47.89Z</td>\n",
       "      <td>NAFRev2</td>\n",
       "      <td>N</td>\n",
       "    </tr>\n",
       "    <tr>\n",
       "      <th>2</th>\n",
       "      <td>325175</td>\n",
       "      <td>32</td>\n",
       "      <td>32517500032</td>\n",
       "      <td>O</td>\n",
       "      <td>2009-05-27</td>\n",
       "      <td>NaN</td>\n",
       "      <td>NaN</td>\n",
       "      <td>NaN</td>\n",
       "      <td>2014-07-08T00:10:21</td>\n",
       "      <td>False</td>\n",
       "      <td>...</td>\n",
       "      <td>NaN</td>\n",
       "      <td>2011-10-21</td>\n",
       "      <td>F</td>\n",
       "      <td>TAHITI PERLES CREATIONS</td>\n",
       "      <td>NaN</td>\n",
       "      <td>NaN</td>\n",
       "      <td>NaN</td>\n",
       "      <td>32.12Z</td>\n",
       "      <td>NAFRev2</td>\n",
       "      <td>N</td>\n",
       "    </tr>\n",
       "    <tr>\n",
       "      <th>3</th>\n",
       "      <td>325175</td>\n",
       "      <td>40</td>\n",
       "      <td>32517500040</td>\n",
       "      <td>O</td>\n",
       "      <td>2011-10-21</td>\n",
       "      <td>NaN</td>\n",
       "      <td>NaN</td>\n",
       "      <td>3212ZZ</td>\n",
       "      <td>2015-03-18T00:58:59</td>\n",
       "      <td>False</td>\n",
       "      <td>...</td>\n",
       "      <td>NaN</td>\n",
       "      <td>2014-01-07</td>\n",
       "      <td>F</td>\n",
       "      <td>TAHITI PERLES CREATION</td>\n",
       "      <td>NaN</td>\n",
       "      <td>NaN</td>\n",
       "      <td>NaN</td>\n",
       "      <td>32.12Z</td>\n",
       "      <td>NAFRev2</td>\n",
       "      <td>N</td>\n",
       "    </tr>\n",
       "    <tr>\n",
       "      <th>4</th>\n",
       "      <td>325175</td>\n",
       "      <td>57</td>\n",
       "      <td>32517500057</td>\n",
       "      <td>O</td>\n",
       "      <td>2014-01-07</td>\n",
       "      <td>NaN</td>\n",
       "      <td>NaN</td>\n",
       "      <td>NaN</td>\n",
       "      <td>2018-07-10T14:17:15</td>\n",
       "      <td>False</td>\n",
       "      <td>...</td>\n",
       "      <td>NaN</td>\n",
       "      <td>2018-02-07</td>\n",
       "      <td>F</td>\n",
       "      <td>TAHITI PERLES CREATION</td>\n",
       "      <td>NaN</td>\n",
       "      <td>NaN</td>\n",
       "      <td>NaN</td>\n",
       "      <td>32.12Z</td>\n",
       "      <td>NAFRev2</td>\n",
       "      <td>N</td>\n",
       "    </tr>\n",
       "  </tbody>\n",
       "</table>\n",
       "<p>5 rows × 48 columns</p>\n",
       "</div>"
      ],
      "text/plain": [
       "    siren  nic        siret statutdiffusionetablissement  \\\n",
       "0  325175   16  32517500016                            O   \n",
       "1  325175   24  32517500024                            O   \n",
       "2  325175   32  32517500032                            O   \n",
       "3  325175   40  32517500040                            O   \n",
       "4  325175   57  32517500057                            O   \n",
       "\n",
       "  datecreationetablissement trancheeffectifsetablissement  \\\n",
       "0                2000-09-26                           NaN   \n",
       "1                2008-05-20                           NaN   \n",
       "2                2009-05-27                           NaN   \n",
       "3                2011-10-21                           NaN   \n",
       "4                2014-01-07                           NaN   \n",
       "\n",
       "   anneeeffectifsetablissement activiteprincipaleregistremetiersetablissement  \\\n",
       "0                          NaN                                         3212ZZ   \n",
       "1                          NaN                                            NaN   \n",
       "2                          NaN                                            NaN   \n",
       "3                          NaN                                         3212ZZ   \n",
       "4                          NaN                                            NaN   \n",
       "\n",
       "  datederniertraitementetablissement  etablissementsiege  \\\n",
       "0                2015-03-18T00:58:59               False   \n",
       "1                2011-12-12T09:40:04               False   \n",
       "2                2014-07-08T00:10:21               False   \n",
       "3                2015-03-18T00:58:59               False   \n",
       "4                2018-07-10T14:17:15               False   \n",
       "\n",
       "                ...                libellepaysetranger2etablissement  \\\n",
       "0               ...                                              NaN   \n",
       "1               ...                                              NaN   \n",
       "2               ...                                              NaN   \n",
       "3               ...                                              NaN   \n",
       "4               ...                                              NaN   \n",
       "\n",
       "    datedebut  etatadministratifetablissement   enseigne1etablissement  \\\n",
       "0  2009-05-27                               F                      NaN   \n",
       "1  2011-10-21                               F  TAHITI PERLES CREATIONS   \n",
       "2  2011-10-21                               F  TAHITI PERLES CREATIONS   \n",
       "3  2014-01-07                               F   TAHITI PERLES CREATION   \n",
       "4  2018-02-07                               F   TAHITI PERLES CREATION   \n",
       "\n",
       "  enseigne2etablissement enseigne3etablissement  \\\n",
       "0                    NaN                    NaN   \n",
       "1                    NaN                    NaN   \n",
       "2                    NaN                    NaN   \n",
       "3                    NaN                    NaN   \n",
       "4                    NaN                    NaN   \n",
       "\n",
       "   denominationusuelleetablissement activiteprincipaleetablissement  \\\n",
       "0                               NaN                          32.12Z   \n",
       "1                               NaN                          47.89Z   \n",
       "2                               NaN                          32.12Z   \n",
       "3                               NaN                          32.12Z   \n",
       "4                               NaN                          32.12Z   \n",
       "\n",
       "   nomenclatureactiviteprincipaleetablissement caractereemployeuretablissement  \n",
       "0                                      NAFRev2                               N  \n",
       "1                                      NAFRev2                               N  \n",
       "2                                      NAFRev2                               N  \n",
       "3                                      NAFRev2                               N  \n",
       "4                                      NAFRev2                               N  \n",
       "\n",
       "[5 rows x 48 columns]"
      ]
     },
     "execution_count": 63,
     "metadata": {},
     "output_type": "execute_result"
    }
   ],
   "source": [
    "pd.read_csv(os.path.join(DATA_DIR, ETAB_FILENAME), # Concaténation du répertoire et du nom de fichier\n",
    "            compression='zip',\n",
    "            nrows=1000 # limite à 1000 lignes la lecture\n",
    "           ).head()"
   ]
  },
  {
   "cell_type": "code",
   "execution_count": 65,
   "metadata": {},
   "outputs": [
    {
     "data": {
      "text/plain": [
       "Index(['activiteprincipaleetablissement',\n",
       "       'activiteprincipaleregistremetiersetablissement',\n",
       "       'anneeeffectifsetablissement', 'caractereemployeuretablissement',\n",
       "       'codecedex2etablissement', 'codecedexetablissement',\n",
       "       'codecommune2etablissement', 'codecommuneetablissement',\n",
       "       'codepaysetranger2etablissement', 'codepaysetrangeretablissement',\n",
       "       'codepostal2etablissement', 'codepostaletablissement',\n",
       "       'complementadresse2etablissement', 'complementadresseetablissement',\n",
       "       'datecreationetablissement', 'datedebut',\n",
       "       'datederniertraitementetablissement',\n",
       "       'denominationusuelleetablissement',\n",
       "       'distributionspeciale2etablissement',\n",
       "       'distributionspecialeetablissement', 'enseigne1etablissement',\n",
       "       'enseigne2etablissement', 'enseigne3etablissement',\n",
       "       'etablissementsiege', 'etatadministratifetablissement',\n",
       "       'indicerepetition2etablissement', 'indicerepetitionetablissement',\n",
       "       'libellecedex2etablissement', 'libellecedexetablissement',\n",
       "       'libellecommune2etablissement', 'libellecommuneetablissement',\n",
       "       'libellecommuneetranger2etablissement',\n",
       "       'libellecommuneetrangeretablissement',\n",
       "       'libellepaysetranger2etablissement', 'libellepaysetrangeretablissement',\n",
       "       'libellevoie2etablissement', 'libellevoieetablissement', 'nic',\n",
       "       'nombreperiodesetablissement',\n",
       "       'nomenclatureactiviteprincipaleetablissement',\n",
       "       'numerovoie2etablissement', 'numerovoieetablissement', 'siren', 'siret',\n",
       "       'statutdiffusionetablissement', 'trancheeffectifsetablissement',\n",
       "       'typevoie2etablissement', 'typevoieetablissement'],\n",
       "      dtype='object')"
      ]
     },
     "execution_count": 65,
     "metadata": {},
     "output_type": "execute_result"
    }
   ],
   "source": [
    "pd.read_csv(os.path.join(DATA_DIR, ETAB_FILENAME), # Concaténation du répertoire et du nom de fichier\n",
    "            compression='zip',\n",
    "            nrows=1000 # limite à 1000 lignes la lecture\n",
    "           ).columns.sort_values()"
   ]
  },
  {
   "cell_type": "code",
   "execution_count": 93,
   "metadata": {},
   "outputs": [
    {
     "name": "stderr",
     "output_type": "stream",
     "text": [
      "<string>:2: DtypeWarning: Columns (20,41,44) have mixed types. Specify dtype option on import or set low_memory=False.\n"
     ]
    },
    {
     "name": "stdout",
     "output_type": "stream",
     "text": [
      "Wall time: 1min 28s\n"
     ]
    }
   ],
   "source": [
    "%%time\n",
    "etab_df = (pd.read_csv(os.path.join(DATA_DIR, ETAB_FILENAME), # Concaténation du répertoire et du nom de fichier\n",
    "                       usecols=['siren',\n",
    "                                'activiteprincipaleetablissement', 'datecreationetablissement',\n",
    "                                'enseigne1etablissement', 'denominationusuelleetablissement',\n",
    "                                'etatadministratifetablissement',\n",
    "                                'codepostaletablissement', 'codecommuneetablissement', 'libellecommuneetablissement',\n",
    "                               ],\n",
    "                           compression='zip',\n",
    "                           #nrows=1_000_000 # limite à n lignes la lecture\n",
    "                          )\n",
    "             ).dropna(subset=['activiteprincipaleetablissement']).query('etatadministratifetablissement == \"A\"')\n",
    "\n",
    "# Filtrage des professionnels de santé\n",
    "#etab_df = etab_df[etab_df.activiteprincipaleetablissement.str.startswith(ACTIVITY_CODE)] # 86."
   ]
  },
  {
   "cell_type": "code",
   "execution_count": 94,
   "metadata": {},
   "outputs": [
    {
     "data": {
      "text/plain": [
       "(11233968, 9)"
      ]
     },
     "execution_count": 94,
     "metadata": {},
     "output_type": "execute_result"
    }
   ],
   "source": [
    "etab_df.shape"
   ]
  },
  {
   "cell_type": "code",
   "execution_count": 80,
   "metadata": {},
   "outputs": [
    {
     "data": {
      "text/html": [
       "<div>\n",
       "<style>\n",
       "    .dataframe thead tr:only-child th {\n",
       "        text-align: right;\n",
       "    }\n",
       "\n",
       "    .dataframe thead th {\n",
       "        text-align: left;\n",
       "    }\n",
       "\n",
       "    .dataframe tbody tr th {\n",
       "        vertical-align: top;\n",
       "    }\n",
       "</style>\n",
       "<table border=\"1\" class=\"dataframe\">\n",
       "  <thead>\n",
       "    <tr style=\"text-align: right;\">\n",
       "      <th></th>\n",
       "      <th>siren</th>\n",
       "      <th>datecreationetablissement</th>\n",
       "      <th>codepostaletablissement</th>\n",
       "      <th>libellecommuneetablissement</th>\n",
       "      <th>codecommuneetablissement</th>\n",
       "      <th>etatadministratifetablissement</th>\n",
       "      <th>enseigne1etablissement</th>\n",
       "      <th>denominationusuelleetablissement</th>\n",
       "      <th>activiteprincipaleetablissement</th>\n",
       "    </tr>\n",
       "  </thead>\n",
       "  <tbody>\n",
       "    <tr>\n",
       "      <th>892</th>\n",
       "      <td>5720164</td>\n",
       "      <td>1983-09-28</td>\n",
       "      <td>80100.0</td>\n",
       "      <td>ABBEVILLE</td>\n",
       "      <td>80001</td>\n",
       "      <td>A</td>\n",
       "      <td>NaN</td>\n",
       "      <td>NaN</td>\n",
       "      <td>86.10Z</td>\n",
       "    </tr>\n",
       "    <tr>\n",
       "      <th>6424</th>\n",
       "      <td>7050040</td>\n",
       "      <td>1970-01-01</td>\n",
       "      <td>4510.0</td>\n",
       "      <td>AIGLUN</td>\n",
       "      <td>04001</td>\n",
       "      <td>A</td>\n",
       "      <td>NaN</td>\n",
       "      <td>NaN</td>\n",
       "      <td>86.10Z</td>\n",
       "    </tr>\n",
       "    <tr>\n",
       "      <th>17575</th>\n",
       "      <td>17150533</td>\n",
       "      <td>1971-01-01</td>\n",
       "      <td>21000.0</td>\n",
       "      <td>DIJON</td>\n",
       "      <td>21231</td>\n",
       "      <td>A</td>\n",
       "      <td>NaN</td>\n",
       "      <td>NaN</td>\n",
       "      <td>86.10Z</td>\n",
       "    </tr>\n",
       "    <tr>\n",
       "      <th>26233</th>\n",
       "      <td>24080749</td>\n",
       "      <td>2002-12-19</td>\n",
       "      <td>97600.0</td>\n",
       "      <td>MAMOUDZOU</td>\n",
       "      <td>97611</td>\n",
       "      <td>A</td>\n",
       "      <td>NaN</td>\n",
       "      <td>NaN</td>\n",
       "      <td>86.90B</td>\n",
       "    </tr>\n",
       "    <tr>\n",
       "      <th>34605</th>\n",
       "      <td>35204429</td>\n",
       "      <td>2009-01-01</td>\n",
       "      <td>31200.0</td>\n",
       "      <td>TOULOUSE</td>\n",
       "      <td>31555</td>\n",
       "      <td>A</td>\n",
       "      <td>NaN</td>\n",
       "      <td>NaN</td>\n",
       "      <td>86.23Z</td>\n",
       "    </tr>\n",
       "    <tr>\n",
       "      <th>37513</th>\n",
       "      <td>36220150</td>\n",
       "      <td>1997-01-27</td>\n",
       "      <td>6600.0</td>\n",
       "      <td>ANTIBES</td>\n",
       "      <td>06004</td>\n",
       "      <td>A</td>\n",
       "      <td>NaN</td>\n",
       "      <td>POLE ANTIBES SAINT JEAN</td>\n",
       "      <td>86.10Z</td>\n",
       "    </tr>\n",
       "    <tr>\n",
       "      <th>41402</th>\n",
       "      <td>37240348</td>\n",
       "      <td>1985-01-01</td>\n",
       "      <td>39100.0</td>\n",
       "      <td>DOLE</td>\n",
       "      <td>39198</td>\n",
       "      <td>A</td>\n",
       "      <td>NaN</td>\n",
       "      <td>NaN</td>\n",
       "      <td>86.90B</td>\n",
       "    </tr>\n",
       "    <tr>\n",
       "      <th>41851</th>\n",
       "      <td>37739802</td>\n",
       "      <td>2004-10-01</td>\n",
       "      <td>64100.0</td>\n",
       "      <td>BAYONNE</td>\n",
       "      <td>64102</td>\n",
       "      <td>A</td>\n",
       "      <td>NaN</td>\n",
       "      <td>NaN</td>\n",
       "      <td>86.21Z</td>\n",
       "    </tr>\n",
       "    <tr>\n",
       "      <th>112251</th>\n",
       "      <td>46620241</td>\n",
       "      <td>1966-01-01</td>\n",
       "      <td>20117.0</td>\n",
       "      <td>OCANA</td>\n",
       "      <td>2A181</td>\n",
       "      <td>A</td>\n",
       "      <td>NaN</td>\n",
       "      <td>NaN</td>\n",
       "      <td>86.10Z</td>\n",
       "    </tr>\n",
       "    <tr>\n",
       "      <th>112800</th>\n",
       "      <td>46750147</td>\n",
       "      <td>1967-01-01</td>\n",
       "      <td>59500.0</td>\n",
       "      <td>DOUAI</td>\n",
       "      <td>59178</td>\n",
       "      <td>A</td>\n",
       "      <td>NaN</td>\n",
       "      <td>NaN</td>\n",
       "      <td>86.10Z</td>\n",
       "    </tr>\n",
       "  </tbody>\n",
       "</table>\n",
       "</div>"
      ],
      "text/plain": [
       "           siren datecreationetablissement  codepostaletablissement  \\\n",
       "892      5720164                1983-09-28                  80100.0   \n",
       "6424     7050040                1970-01-01                   4510.0   \n",
       "17575   17150533                1971-01-01                  21000.0   \n",
       "26233   24080749                2002-12-19                  97600.0   \n",
       "34605   35204429                2009-01-01                  31200.0   \n",
       "37513   36220150                1997-01-27                   6600.0   \n",
       "41402   37240348                1985-01-01                  39100.0   \n",
       "41851   37739802                2004-10-01                  64100.0   \n",
       "112251  46620241                1966-01-01                  20117.0   \n",
       "112800  46750147                1967-01-01                  59500.0   \n",
       "\n",
       "       libellecommuneetablissement codecommuneetablissement  \\\n",
       "892                      ABBEVILLE                    80001   \n",
       "6424                        AIGLUN                    04001   \n",
       "17575                        DIJON                    21231   \n",
       "26233                    MAMOUDZOU                    97611   \n",
       "34605                     TOULOUSE                    31555   \n",
       "37513                      ANTIBES                    06004   \n",
       "41402                         DOLE                    39198   \n",
       "41851                      BAYONNE                    64102   \n",
       "112251                       OCANA                    2A181   \n",
       "112800                       DOUAI                    59178   \n",
       "\n",
       "       etatadministratifetablissement enseigne1etablissement  \\\n",
       "892                                 A                    NaN   \n",
       "6424                                A                    NaN   \n",
       "17575                               A                    NaN   \n",
       "26233                               A                    NaN   \n",
       "34605                               A                    NaN   \n",
       "37513                               A                    NaN   \n",
       "41402                               A                    NaN   \n",
       "41851                               A                    NaN   \n",
       "112251                              A                    NaN   \n",
       "112800                              A                    NaN   \n",
       "\n",
       "       denominationusuelleetablissement activiteprincipaleetablissement  \n",
       "892                                 NaN                          86.10Z  \n",
       "6424                                NaN                          86.10Z  \n",
       "17575                               NaN                          86.10Z  \n",
       "26233                               NaN                          86.90B  \n",
       "34605                               NaN                          86.23Z  \n",
       "37513           POLE ANTIBES SAINT JEAN                          86.10Z  \n",
       "41402                               NaN                          86.90B  \n",
       "41851                               NaN                          86.21Z  \n",
       "112251                              NaN                          86.10Z  \n",
       "112800                              NaN                          86.10Z  "
      ]
     },
     "execution_count": 80,
     "metadata": {},
     "output_type": "execute_result"
    }
   ],
   "source": [
    "etab_df.head(10)"
   ]
  },
  {
   "cell_type": "code",
   "execution_count": 81,
   "metadata": {},
   "outputs": [
    {
     "data": {
      "text/plain": [
       "siren                                 int64\n",
       "datecreationetablissement            object\n",
       "codepostaletablissement             float64\n",
       "libellecommuneetablissement          object\n",
       "codecommuneetablissement             object\n",
       "etatadministratifetablissement       object\n",
       "enseigne1etablissement               object\n",
       "denominationusuelleetablissement     object\n",
       "activiteprincipaleetablissement      object\n",
       "dtype: object"
      ]
     },
     "execution_count": 81,
     "metadata": {},
     "output_type": "execute_result"
    }
   ],
   "source": [
    "etab_df.dtypes"
   ]
  },
  {
   "cell_type": "code",
   "execution_count": 82,
   "metadata": {},
   "outputs": [
    {
     "data": {
      "text/plain": [
       "siren                             int64\n",
       "datecreationunitelegale          object\n",
       "etatadministratifunitelegale     object\n",
       "nomunitelegale                   object\n",
       "denominationunitelegale          object\n",
       "activiteprincipaleunitelegale    object\n",
       "dtype: object"
      ]
     },
     "execution_count": 82,
     "metadata": {},
     "output_type": "execute_result"
    }
   ],
   "source": [
    "entities_df.dtypes"
   ]
  },
  {
   "cell_type": "code",
   "execution_count": 83,
   "metadata": {
    "collapsed": true
   },
   "outputs": [],
   "source": [
    "process_df = etab_df.merge(entities_df, on='siren', how='left')"
   ]
  },
  {
   "cell_type": "code",
   "execution_count": 84,
   "metadata": {},
   "outputs": [
    {
     "data": {
      "text/plain": [
       "(560103, 14)"
      ]
     },
     "execution_count": 84,
     "metadata": {},
     "output_type": "execute_result"
    }
   ],
   "source": [
    "process_df.shape"
   ]
  },
  {
   "cell_type": "code",
   "execution_count": 86,
   "metadata": {},
   "outputs": [
    {
     "data": {
      "text/plain": [
       "(7954, 14)"
      ]
     },
     "execution_count": 86,
     "metadata": {},
     "output_type": "execute_result"
    }
   ],
   "source": [
    "process_df[process_df.activiteprincipaleunitelegale.isnull()].shape"
   ]
  },
  {
   "cell_type": "code",
   "execution_count": 105,
   "metadata": {},
   "outputs": [
    {
     "data": {
      "text/plain": [
       "4456.694919586182"
      ]
     },
     "execution_count": 105,
     "metadata": {},
     "output_type": "execute_result"
    }
   ],
   "source": [
    "etab_df.memory_usage(deep=True).sum() / (1024 * 1024) # En mégaoctet"
   ]
  },
  {
   "cell_type": "code",
   "execution_count": 106,
   "metadata": {},
   "outputs": [
    {
     "data": {
      "text/plain": [
       "3464.3372735977173"
      ]
     },
     "execution_count": 106,
     "metadata": {},
     "output_type": "execute_result"
    }
   ],
   "source": [
    "entities_df.memory_usage(deep=True).sum() / (1024 * 1024) # En mégaoctet"
   ]
  },
  {
   "cell_type": "code",
   "execution_count": 107,
   "metadata": {},
   "outputs": [
    {
     "data": {
      "text/plain": [
       "both          11233945\n",
       "right_only     1622950\n",
       "left_only           23\n",
       "Name: _merge, dtype: int64"
      ]
     },
     "execution_count": 107,
     "metadata": {},
     "output_type": "execute_result"
    }
   ],
   "source": [
    "etab_df.merge(entities_df, on='siren', how='outer', indicator=True)['_merge'].value_counts()"
   ]
  },
  {
   "cell_type": "code",
   "execution_count": null,
   "metadata": {
    "collapsed": true
   },
   "outputs": [],
   "source": []
  }
 ],
 "metadata": {
  "kernelspec": {
   "display_name": "Python 3",
   "language": "python",
   "name": "python3"
  },
  "language_info": {
   "codemirror_mode": {
    "name": "ipython",
    "version": 3
   },
   "file_extension": ".py",
   "mimetype": "text/x-python",
   "name": "python",
   "nbconvert_exporter": "python",
   "pygments_lexer": "ipython3",
   "version": "3.6.1"
  }
 },
 "nbformat": 4,
 "nbformat_minor": 2
}
